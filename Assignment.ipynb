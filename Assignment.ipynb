{
  "metadata": {
    "language_info": {
      "codemirror_mode": {
        "name": "python",
        "version": 3
      },
      "file_extension": ".py",
      "mimetype": "text/x-python",
      "name": "python",
      "nbconvert_exporter": "python",
      "pygments_lexer": "ipython3",
      "version": "3.8"
    },
    "kernelspec": {
      "name": "python",
      "display_name": "Pyolite",
      "language": "python"
    }
  },
  "nbformat_minor": 4,
  "nbformat": 4,
  "cells": [
    {
      "cell_type": "markdown",
      "source": "# My Jupyter Notebook on IBM Watson Studio",
      "metadata": {}
    },
    {
      "cell_type": "markdown",
      "source": "**Logan Nielsen**\n\nData Analyst",
      "metadata": {}
    },
    {
      "cell_type": "markdown",
      "source": "*I am interested in data science because of my current job. I have worked in operations for a while now and have really enjoyed the data part. I am now a data analyst and learning this stuff is helping me in my work.*",
      "metadata": {}
    },
    {
      "cell_type": "markdown",
      "source": "### The code in cell 5 below will print the result of 12 times 12",
      "metadata": {}
    },
    {
      "cell_type": "code",
      "source": "12*12",
      "metadata": {
        "trusted": true
      },
      "execution_count": 2,
      "outputs": [
        {
          "execution_count": 2,
          "output_type": "execute_result",
          "data": {
            "text/plain": "144"
          },
          "metadata": {}
        }
      ]
    },
    {
      "cell_type": "markdown",
      "source": "# favorite sport teams\n1. Philadelphia Eagles\n2. Minnesota Timberwolves\n3. New York Yankees\n\n***\n# things i enjoy\n* Raspberry pi\n* my dog\n* Video games\n* ~~the dishes~~\n\n***\n# family and phone type\n|Name    |Phone type|\n|--------|----------|\n|Logan   |iPhone    |\n|Tyller  |iPhone    |",
      "metadata": {
        "tags": []
      }
    },
    {
      "cell_type": "code",
      "source": "",
      "metadata": {},
      "execution_count": null,
      "outputs": []
    }
  ]
}